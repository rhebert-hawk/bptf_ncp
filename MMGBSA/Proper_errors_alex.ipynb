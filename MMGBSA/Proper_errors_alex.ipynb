{
 "cells": [
  {
   "cell_type": "code",
   "execution_count": 2,
   "id": "55a6fe66-eb4f-4c19-9c5b-f796c930c662",
   "metadata": {},
   "outputs": [],
   "source": [
    "import numpy as np\n",
    "import statistics as stat"
   ]
  },
  {
   "cell_type": "code",
   "execution_count": 3,
   "id": "f6d4c771-3da3-4538-949b-bcc37a9abde4",
   "metadata": {},
   "outputs": [],
   "source": [
    "# Note: In my systems, indices for the start of the different data sets are 0, 700, and 1400 for the complex, receptor, and ligand respectively\n",
    "\n",
    "time1 = np.loadtxt('E1gbsa.xvg', unpack=True,comments=('#'),delimiter=',',usecols=0)\n",
    "bond1 = np.loadtxt('E1gbsa.xvg', unpack=True,comments=('#'),delimiter=',',usecols=1)\n",
    "angle1 = np.loadtxt('E1gbsa.xvg', unpack=True,comments=('#'),delimiter=',',usecols=2)\n",
    "dihed1 = np.loadtxt('E1gbsa.xvg', unpack=True,comments=('#'),delimiter=',',usecols=3)\n",
    "vdwaals1 = np.loadtxt('E1gbsa.xvg', unpack=True,comments=('#'),delimiter=',',usecols=7)\n",
    "eel1 = np.loadtxt('E1gbsa.xvg', unpack=True,comments=('#'),delimiter=',',usecols=8)\n",
    "vdw_1_4_1 = np.loadtxt('E1gbsa.xvg', unpack=True,comments=('#'),delimiter=',',usecols=9)\n",
    "eel_1_4_1 = np.loadtxt('E1gbsa.xvg', unpack=True,comments=('#'),delimiter=',',usecols=10)\n",
    "egb1 = np.loadtxt('E1gbsa.xvg', unpack=True,comments=('#'),delimiter=',',usecols=11)\n",
    "esurf1 = np.loadtxt('E1gbsa.xvg', unpack=True,comments=('#'),delimiter=',',usecols=12)\n",
    "total1 = np.loadtxt('E1gbsa.xvg', unpack=True,comments=('#'),delimiter=',',usecols=15)\n",
    "\n",
    "time2 = np.loadtxt('E2gbsa.xvg', unpack=True,comments=('#'),delimiter=',',usecols=0)\n",
    "bond2 = np.loadtxt('E2gbsa.xvg', unpack=True,comments=('#'),delimiter=',',usecols=1)\n",
    "angle2 = np.loadtxt('E2gbsa.xvg', unpack=True,comments=('#'),delimiter=',',usecols=2)\n",
    "dihed2 = np.loadtxt('E2gbsa.xvg', unpack=True,comments=('#'),delimiter=',',usecols=3)\n",
    "vdwaals2 = np.loadtxt('E2gbsa.xvg', unpack=True,comments=('#'),delimiter=',',usecols=7)\n",
    "eel2 = np.loadtxt('E2gbsa.xvg', unpack=True,comments=('#'),delimiter=',',usecols=8)\n",
    "vdw_1_4_2 = np.loadtxt('E2gbsa.xvg', unpack=True,comments=('#'),delimiter=',',usecols=9)\n",
    "eel_1_4_2 = np.loadtxt('E2gbsa.xvg', unpack=True,comments=('#'),delimiter=',',usecols=10)\n",
    "egb2 = np.loadtxt('E2gbsa.xvg', unpack=True,comments=('#'),delimiter=',',usecols=11)\n",
    "esurf2 = np.loadtxt('E2gbsa.xvg', unpack=True,comments=('#'),delimiter=',',usecols=12)\n",
    "total2 = np.loadtxt('E2gbsa.xvg', unpack=True,comments=('#'),delimiter=',',usecols=15)\n",
    "\n",
    "time3 = np.loadtxt('E3gbsa.xvg', unpack=True,comments=('#'),delimiter=',',usecols=0)\n",
    "bond3 = np.loadtxt('E3gbsa.xvg', unpack=True,comments=('#'),delimiter=',',usecols=1)\n",
    "angle3 = np.loadtxt('E3gbsa.xvg', unpack=True,comments=('#'),delimiter=',',usecols=2)\n",
    "dihed3 = np.loadtxt('E3gbsa.xvg', unpack=True,comments=('#'),delimiter=',',usecols=3)\n",
    "vdwaals3 = np.loadtxt('E3gbsa.xvg', unpack=True,comments=('#'),delimiter=',',usecols=7)\n",
    "eel3 = np.loadtxt('E3gbsa.xvg', unpack=True,comments=('#'),delimiter=',',usecols=8)\n",
    "vdw_1_4_3 = np.loadtxt('E3gbsa.xvg', unpack=True,comments=('#'),delimiter=',',usecols=9)\n",
    "eel_1_4_3 = np.loadtxt('E3gbsa.xvg', unpack=True,comments=('#'),delimiter=',',usecols=10)\n",
    "egb3 = np.loadtxt('E3gbsa.xvg', unpack=True,comments=('#'),delimiter=',',usecols=11)\n",
    "esurf3 = np.loadtxt('E3gbsa.xvg', unpack=True,comments=('#'),delimiter=',',usecols=12)\n",
    "total3 = np.loadtxt('E3gbsa.xvg', unpack=True,comments=('#'),delimiter=',',usecols=15)"
   ]
  },
  {
   "cell_type": "code",
   "execution_count": 4,
   "id": "ddb24370-2cc5-4363-ba5c-db64d767c632",
   "metadata": {},
   "outputs": [],
   "source": [
    "# All values should be obtained by using (complex - receptor - ligand)\n",
    "######### These values should be generalized to work with any .xvg output - no editing required! ##########\n",
    "comp0 = 0\n",
    "compf = int(len(time1)/3)\n",
    "rec0 = compf \n",
    "recf = int(2*len(time1)/3)\n",
    "lig0 = recf\n",
    "###########################################################################################################\n",
    "\n",
    "internal1 = bond1 + angle1 + dihed1\n",
    "Elec1 = eel1 + egb1 + eel_1_4_1\n",
    "VdW1 = vdwaals1 + vdw_1_4_1 + esurf1\n",
    "\n",
    "internal2 = bond2 + angle2 + dihed2\n",
    "Elec2 = eel2 + egb2 + eel_1_4_2\n",
    "VdW2 = vdwaals2 + vdw_1_4_2 + esurf2\n",
    "\n",
    "internal3 = bond3 + angle3 + dihed3\n",
    "Elec3 = eel3 + egb3 + eel_1_4_3\n",
    "VdW3 = vdwaals3 + vdw_1_4_3 + esurf3\n",
    "\n",
    "internal_final1 = internal1[comp0:compf] - internal1[rec0:recf] - internal1[lig0::]\n",
    "Elec_final1 = Elec1[comp0:compf] - Elec1[rec0:recf] - Elec1[lig0::]\n",
    "VdW_final1 = VdW1[comp0:compf] - VdW1[rec0:recf] - VdW1[lig0::]\n",
    "\n",
    "internal_final2 = internal2[comp0:compf] - internal2[rec0:recf] - internal2[lig0::]\n",
    "Elec_final2 = Elec2[comp0:compf] - Elec2[rec0:recf] - Elec2[lig0::]\n",
    "VdW_final2 = VdW2[comp0:compf] - VdW2[rec0:recf] - VdW2[lig0::]\n",
    "\n",
    "internal_final3 = internal3[comp0:compf] - internal3[rec0:recf] - internal3[lig0::]\n",
    "Elec_final3 = Elec3[comp0:compf] - Elec3[rec0:recf] - Elec3[lig0::]\n",
    "VdW_final3 = VdW3[comp0:compf] - VdW3[rec0:recf] - VdW3[lig0::]\n",
    "\n",
    "\n",
    "internal_final = np.concatenate([internal_final1,internal_final2,internal_final3])\n",
    "Elec_final = np.concatenate([Elec_final1,Elec_final2,Elec_final3])\n",
    "VdW_final = np.concatenate([VdW_final1,VdW_final2,VdW_final3])"
   ]
  },
  {
   "cell_type": "code",
   "execution_count": 5,
   "id": "24605c3f-a3bc-48c4-ad10-2875b919430b",
   "metadata": {},
   "outputs": [],
   "source": [
    "def Error_prop(x,y,z):\n",
    "    a = stat.stdev(x)\n",
    "    b = stat.stdev(y)\n",
    "    c = stat.stdev(z)\n",
    "    error = (a**2 + b**2 + c**2)**0.5\n",
    "    return float(error)"
   ]
  },
  {
   "cell_type": "code",
   "execution_count": 6,
   "id": "58b63bc4-3de5-4ca1-8af8-baaf3947b5c4",
   "metadata": {},
   "outputs": [
    {
     "name": "stdout",
     "output_type": "stream",
     "text": [
      "Your final Internal Energy is 31.44337380952374 +/- 87.96050296775208.\n",
      "Your final Electrostatic Energy is 166.55531080952414 +/- 59.15930632347827.\n",
      "Your final Van der Waals Energy is -350.0632560086095 +/- 57.278295404441785.\n",
      "Your total energy is -152.06457138956165 +/- 120.48932206404665.\n"
     ]
    }
   ],
   "source": [
    "print('Your final Internal Energy is '+str(stat.mean(internal_final))+' +/- '+str(stat.stdev(internal_final)/2.2)+'.')\n",
    "print('Your final Electrostatic Energy is '+str(stat.mean(Elec_final))+' +/- '+str(stat.stdev(Elec_final)/2.2)+'.')\n",
    "print('Your final Van der Waals Energy is '+str(stat.mean(VdW_final))+' +/- '+str(stat.stdev(VdW_final)/2.2)+'.')\n",
    "print('Your total energy is '+str(stat.mean(internal_final+VdW_final+Elec_final))+' +/- '+str(float(Error_prop(VdW_final,internal_final,Elec_final))/2.2)+'.')"
   ]
  },
  {
   "cell_type": "code",
   "execution_count": null,
   "id": "c60d05b5-b040-4e7f-8b06-add042519975",
   "metadata": {},
   "outputs": [],
   "source": []
  }
 ],
 "metadata": {
  "kernelspec": {
   "display_name": "Python 3 (ipykernel)",
   "language": "python",
   "name": "python3"
  },
  "language_info": {
   "codemirror_mode": {
    "name": "ipython",
    "version": 3
   },
   "file_extension": ".py",
   "mimetype": "text/x-python",
   "name": "python",
   "nbconvert_exporter": "python",
   "pygments_lexer": "ipython3",
   "version": "3.10.8"
  }
 },
 "nbformat": 4,
 "nbformat_minor": 5
}
